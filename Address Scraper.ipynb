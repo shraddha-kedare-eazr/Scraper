{
 "cells": [
  {
   "cell_type": "code",
   "execution_count": 23,
   "id": "e77a889a",
   "metadata": {},
   "outputs": [],
   "source": [
    "from selenium import webdriver\n",
    "from selenium.webdriver.common.keys import Keys\n",
    "from webdriver_manager.firefox import GeckoDriverManager\n",
    "import time\n",
    "from bs4 import BeautifulSoup\n",
    "import requests as req\n",
    "import regex as re\n",
    "from tqdm import tqdm\n",
    "\n",
    "from selenium.webdriver.firefox.options import Options\n",
    "options = Options()\n",
    "options.headless = True\n",
    "\n",
    "class Address_Scrapper:\n",
    "    def __init__(self):\n",
    "        self.driver = webdriver.Firefox(executable_path=GeckoDriverManager().install(), options=options) #'/home/sanket/chromedriver_linux64/chromedriver'\n",
    "        \n",
    "    def scrape_address(self, latitude, longitude):\n",
    "        self.driver.get('https://gps-coordinates.org/')\n",
    "        time.sleep(1)\n",
    "        latinput = self.driver.find_element_by_xpath('//*[@id=\"latitude\"]')\n",
    "        latinput.send_keys(latitude)\n",
    "        \n",
    "        longinput = self.driver.find_element_by_xpath('//*[@id=\"longitude\"]')\n",
    "        longinput.send_keys(longitude)\n",
    "        \n",
    "        get_address = self.driver.find_element_by_xpath('//*[@id=\"btnGetAddressByCoordinates\"]')\n",
    "        get_address.click()\n",
    "        time.sleep(1)\n",
    "        \n",
    "        address = self.driver.find_element_by_xpath('//*[@id=\"address\"]').get_attribute('value')\n",
    "        return address      "
   ]
  },
  {
   "cell_type": "code",
   "execution_count": 24,
   "id": "f330962d",
   "metadata": {},
   "outputs": [
    {
     "name": "stderr",
     "output_type": "stream",
     "text": [
      "\n",
      "\n",
      "====== WebDriver manager ======\n",
      "Driver [/home/sanket/.wdm/drivers/geckodriver/linux64/v0.29.1/geckodriver] found in cache\n"
     ]
    }
   ],
   "source": [
    "ads = Address_Scrapper()"
   ]
  },
  {
   "cell_type": "code",
   "execution_count": 29,
   "id": "1f45c6db",
   "metadata": {},
   "outputs": [
    {
     "name": "stdout",
     "output_type": "stream",
     "text": [
      "CPU times: user 45.2 ms, sys: 641 µs, total: 45.9 ms\n",
      "Wall time: 14.1 s\n"
     ]
    },
    {
     "data": {
      "text/plain": [
       "'2, Gyan Mandir Path, Dadar West, Mumbai, 400028, Maharashtra, India'"
      ]
     },
     "execution_count": 29,
     "metadata": {},
     "output_type": "execute_result"
    }
   ],
   "source": [
    "%%time \n",
    "ads.scrape_address('19.0219' , '72.8379')"
   ]
  },
  {
   "cell_type": "code",
   "execution_count": 28,
   "id": "68442324",
   "metadata": {},
   "outputs": [
    {
     "name": "stdout",
     "output_type": "stream",
     "text": [
      "CPU times: user 47.9 ms, sys: 4.14 ms, total: 52 ms\n",
      "Wall time: 12.8 s\n"
     ]
    },
    {
     "data": {
      "text/plain": [
       "'L&T Flyover, Powai, Mumbai, 400072, Maharashtra, India'"
      ]
     },
     "execution_count": 28,
     "metadata": {},
     "output_type": "execute_result"
    }
   ],
   "source": [
    "%%time\n",
    "ads.scrape_address('19.12546174605416', '72.89140455028937')"
   ]
  }
 ],
 "metadata": {
  "kernelspec": {
   "display_name": "Python 3 (ipykernel)",
   "language": "python",
   "name": "python3"
  },
  "language_info": {
   "codemirror_mode": {
    "name": "ipython",
    "version": 3
   },
   "file_extension": ".py",
   "mimetype": "text/x-python",
   "name": "python",
   "nbconvert_exporter": "python",
   "pygments_lexer": "ipython3",
   "version": "3.8.10"
  }
 },
 "nbformat": 4,
 "nbformat_minor": 5
}
